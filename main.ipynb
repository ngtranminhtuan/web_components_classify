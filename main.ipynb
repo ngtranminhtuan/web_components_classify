{
 "cells": [
  {
   "cell_type": "code",
   "execution_count": 1,
   "metadata": {},
   "outputs": [
    {
     "name": "stdout",
     "output_type": "stream",
     "text": [
      "{'settings_version': '0.0.4', 'datasets_dir': './data/', 'weights_dir': '/Users/tuan/Downloads/web_components_classify/weights', 'runs_dir': '/Users/tuan/Downloads/web_components_classify/runs', 'uuid': 'c29d1be8a040bb6ab57fae2b440c98f394dd16742c28b742db5629233856b801', 'sync': True, 'api_key': '', 'openai_api_key': '', 'clearml': True, 'comet': True, 'dvc': True, 'hub': True, 'mlflow': True, 'neptune': True, 'raytune': True, 'tensorboard': True, 'wandb': True}\n"
     ]
    }
   ],
   "source": [
    "from ultralytics import settings\n",
    "\n",
    "settings.update({'datasets_dir': './data/'})\n",
    "\n",
    "# View all settings\n",
    "print(settings)\n",
    "\n",
    "# Return a specific setting\n",
    "value = settings['runs_dir']"
   ]
  },
  {
   "cell_type": "code",
   "execution_count": 6,
   "metadata": {},
   "outputs": [
    {
     "name": "stdout",
     "output_type": "stream",
     "text": [
      "Done splitting into train, val, and test sets.\n"
     ]
    }
   ],
   "source": [
    "import os\n",
    "import shutil\n",
    "from sklearn.model_selection import train_test_split\n",
    "\n",
    "# Specify the dataset directory where the 'checked', 'unchecked', and 'other' folders are located\n",
    "dataset_directory = './data/'  # Replace with your dataset directory\n",
    "\n",
    "# Specify the directories for the train, val, and test sets\n",
    "train_directory = os.path.join(dataset_directory, 'train')\n",
    "val_directory = os.path.join(dataset_directory, 'val')\n",
    "test_directory = os.path.join(dataset_directory, 'test')\n",
    "\n",
    "# Create the train, val, and test directories if they don't exist\n",
    "os.makedirs(train_directory, exist_ok=True)\n",
    "os.makedirs(val_directory, exist_ok=True)\n",
    "os.makedirs(test_directory, exist_ok=True)\n",
    "\n",
    "# Split ratios for train, validation, and test\n",
    "train_ratio = 0.7\n",
    "val_ratio = 0.2\n",
    "test_ratio = 0.1\n",
    "\n",
    "# Ensure the split ratios sum up to 1, using rounding for floating-point precision\n",
    "assert round(train_ratio + val_ratio + test_ratio, 10) == 1, \"Split ratios must sum up to 1\"\n",
    "\n",
    "# Process each class directory ('checked', 'unchecked', 'other')\n",
    "for class_name in ['checked', 'unchecked', 'other']:\n",
    "    # Path to the class directory\n",
    "    class_dir = os.path.join(dataset_directory, class_name)\n",
    "    \n",
    "    # Get a list of all files in the class directory\n",
    "    all_files = [file for file in os.listdir(class_dir) if os.path.isfile(os.path.join(class_dir, file))]\n",
    "\n",
    "    # First split to separate out the test set\n",
    "    initial_train_files, test_files = train_test_split(all_files, test_size=test_ratio, random_state=42)\n",
    "    \n",
    "    # Adjust the train ratio to account for the removed test set\n",
    "    adjusted_train_ratio = train_ratio / (1 - test_ratio)\n",
    "    \n",
    "    # Second split to separate the remaining files into train and val sets\n",
    "    train_files, val_files = train_test_split(initial_train_files, train_size=adjusted_train_ratio, random_state=42)\n",
    "\n",
    "    # Function to copy the files to the respective train, val, or test directories\n",
    "    def copy_files(files, dest_dir):\n",
    "        os.makedirs(os.path.join(dest_dir, class_name), exist_ok=True)\n",
    "        for file in files:\n",
    "            src_path = os.path.join(class_dir, file)\n",
    "            dest_path = os.path.join(dest_dir, class_name, file)\n",
    "            shutil.copy(src_path, dest_path)\n",
    "\n",
    "    # Copy files to the respective directories\n",
    "    copy_files(train_files, train_directory)\n",
    "    copy_files(val_files, val_directory)\n",
    "    copy_files(test_files, test_directory)\n",
    "\n",
    "print(\"Done splitting into train, val, and test sets.\")\n"
   ]
  },
  {
   "cell_type": "code",
   "execution_count": null,
   "metadata": {},
   "outputs": [],
   "source": [
    "from ultralytics import YOLO\n",
    "model = YOLO('yolov8n-cls.pt')\n",
    "model.train(data='./data/', epochs=500, imgsz=64)"
   ]
  }
 ],
 "metadata": {
  "kernelspec": {
   "display_name": "env",
   "language": "python",
   "name": "python3"
  },
  "language_info": {
   "codemirror_mode": {
    "name": "ipython",
    "version": 3
   },
   "file_extension": ".py",
   "mimetype": "text/x-python",
   "name": "python",
   "nbconvert_exporter": "python",
   "pygments_lexer": "ipython3",
   "version": "3.10.14"
  }
 },
 "nbformat": 4,
 "nbformat_minor": 2
}
